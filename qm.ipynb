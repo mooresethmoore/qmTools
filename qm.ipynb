{
 "cells": [
  {
   "cell_type": "code",
   "execution_count": 4,
   "id": "5cad062c",
   "metadata": {},
   "outputs": [],
   "source": [
    "import numpy as np\n",
    "import sympy as sym\n",
    "import matplotlib.pyplot as plt\n",
    "from matplotlib.ticker import MaxNLocator\n",
    "from sympy import init_printing\n",
    "init_printing(use_latex='mathjax')\n",
    "from sympy import pprint"
   ]
  },
  {
   "cell_type": "code",
   "execution_count": 2,
   "id": "9a870138",
   "metadata": {},
   "outputs": [],
   "source": [
    "def qWalkCoin(x0,steps,storeCount=2):\n",
    "    states=[]\n",
    "    cur=x0.copy()\n",
    "    rule={\"up\":1,\"down\":-1}\n",
    "    for i in range(steps):\n",
    "        if i%storeCount==0:\n",
    "            states.append(cur.copy())\n",
    "        adder=[]\n",
    "        for k in cur.keys():\n",
    "            vNew=k[1]+rule[k[0]]\n",
    "            #print(f\"k {k} \\n vNew: {vNew}\\n\\n\")\n",
    "            nex={(\"up\",vNew):1/np.sqrt(2)*cur[k], (\"down\",vNew):rule[k[0]]/np.sqrt(2)*cur[k]} ##future recursive thread\n",
    "            adder.append(nex)\n",
    "        cur=dict()\n",
    "        for j in adder:\n",
    "            for newState in j.keys():\n",
    "                if newState in cur:\n",
    "                    supPos=cur[newState]+j[newState]\n",
    "                    if np.isclose(np.absolute(supPos),0):\n",
    "                        cur.pop(newState)\n",
    "                    else:\n",
    "                        cur[newState]=supPos\n",
    "                else:\n",
    "                    cur[newState]=j[newState].copy()\n",
    "            ##normalize\n",
    "        c=np.sum([np.absolute(v)**2 for v in cur.values()])\n",
    "        cur={k:v/np.sqrt(c) for k,v in cur.items()}\n",
    "    return states"
   ]
  },
  {
   "cell_type": "code",
   "execution_count": 207,
   "id": "c90206ed",
   "metadata": {},
   "outputs": [],
   "source": [
    "x0={(\"down\",0):1}\n",
    "p2=qWalkCoin(x0,101,1)"
   ]
  },
  {
   "cell_type": "code",
   "execution_count": 208,
   "id": "ec5c4367",
   "metadata": {},
   "outputs": [
    {
     "data": {
      "text/latex": [
       "$\\displaystyle 2.0$"
      ],
      "text/plain": [
       "2.0000000000000004"
      ]
     },
     "execution_count": 208,
     "metadata": {},
     "output_type": "execute_result"
    }
   ],
   "source": [
    "eX2[1]"
   ]
  },
  {
   "cell_type": "code",
   "execution_count": 209,
   "id": "f3e4fb43",
   "metadata": {},
   "outputs": [],
   "source": [
    "eX=[sum(np.sum([np.absolute(v)**2 for k,v in l.items() if k[1]==s[1]])*s[1] for s in l.keys()) for l in p2]\n",
    "eX2=[sum(np.sum([np.absolute(v)**2 for k,v in l.items() if k[1]==s[1]])*s[1]**2 for s in l.keys()) for l in p2]"
   ]
  },
  {
   "cell_type": "code",
   "execution_count": 210,
   "id": "d088a99e",
   "metadata": {},
   "outputs": [],
   "source": [
    "varq1=[i-j**2 for i,j in zip(eX2,eX)]"
   ]
  },
  {
   "cell_type": "code",
   "execution_count": 180,
   "id": "569befb6",
   "metadata": {},
   "outputs": [],
   "source": [
    "l=p2[-1]\n",
    "dat={s[1]:np.sum([np.absolute(v)**2 for k,v in l.items() if k[1]==s[1]]) for s in l.keys()}\n"
   ]
  },
  {
   "cell_type": "code",
   "execution_count": 181,
   "id": "2ee1a999",
   "metadata": {},
   "outputs": [
    {
     "data": {
      "image/png": "[encoded data removed]",
      "text/plain": [
       "<Figure size 432x288 with 1 Axes>"
      ]
     },
     "metadata": {
      "needs_background": "light"
     },
     "output_type": "display_data"
    }
   ],
   "source": [
    "fig=plt.figure()\n",
    "\n",
    "ax=fig.add_subplot()\n",
    "steps=np.arange(21,dtype=int)\n",
    "ax.set_title(\"Hadamard walk on |down,0> : t=100\")\n",
    "ax.bar([k for k in dat.keys() if k%2==0],[dat[k] for k in dat.keys() if k%2==0])\n",
    "\n",
    "\n",
    "plt.xlabel(\"Step Number\")\n",
    "plt.ylabel(\"Probability Density\")\n",
    "plt.show()\n"
   ]
  },
  {
   "cell_type": "code",
   "execution_count": null,
   "id": "5f7a5109",
   "metadata": {},
   "outputs": [],
   "source": []
  },
  {
   "cell_type": "code",
   "execution_count": null,
   "id": "03e4ca94",
   "metadata": {},
   "outputs": [],
   "source": []
  },
  {
   "cell_type": "code",
   "execution_count": 183,
   "id": "c5afd546",
   "metadata": {},
   "outputs": [],
   "source": [
    "x0={(\"up\",0):1/np.sqrt(2),(\"down\",0):1/np.sqrt(2)*1j}\n",
    "\n",
    "p2=qWalkCoin(x0,101,1)"
   ]
  },
  {
   "cell_type": "code",
   "execution_count": 184,
   "id": "24f7bd0e",
   "metadata": {},
   "outputs": [],
   "source": [
    "l=p2[-1]\n",
    "dat={s[1]:np.sum([np.absolute(v)**2 for k,v in l.items() if k[1]==s[1]]) for s in l.keys()}\n"
   ]
  },
  {
   "cell_type": "code",
   "execution_count": 186,
   "id": "c02ef3d4",
   "metadata": {},
   "outputs": [
    {
     "data": {
      "image/png": "[encoded data removed]",
      "text/plain": [
       "<Figure size 432x288 with 1 Axes>"
      ]
     },
     "metadata": {
      "needs_background": "light"
     },
     "output_type": "display_data"
    }
   ],
   "source": [
    "fig=plt.figure()\n",
    "\n",
    "ax=fig.add_subplot()\n",
    "steps=np.arange(21,dtype=int)\n",
    "ax.set_title(\"Hadamard walk on |up,0>+i|down,0> : t=100\")\n",
    "ax.bar([k for k in dat.keys() if k%2==0],[dat[k] for k in dat.keys() if k%2==0])\n",
    "\n",
    "\n",
    "plt.xlabel(\"Step Number\")\n",
    "plt.ylabel(\"Probability Density\")\n",
    "plt.show()\n"
   ]
  },
  {
   "cell_type": "code",
   "execution_count": 187,
   "id": "0eda43eb",
   "metadata": {},
   "outputs": [],
   "source": [
    "eX=[sum(np.sum([np.absolute(v)**2 for k,v in l.items() if k[1]==s[1]])*s[1] for s in l.keys()) for l in p2]\n",
    "eX2=[sum(np.sum([np.absolute(v)**2 for k,v in l.items() if k[1]==s[1]])*s[1]**2 for s in l.keys()) for l in p2]"
   ]
  },
  {
   "cell_type": "code",
   "execution_count": 188,
   "id": "f30095ae",
   "metadata": {},
   "outputs": [],
   "source": [
    "varq2=[i-j**2 for i,j in zip(eX2,eX)]"
   ]
  },
  {
   "cell_type": "code",
   "execution_count": 201,
   "id": "e79ef3b2",
   "metadata": {},
   "outputs": [],
   "source": [
    "varClass=[0]\n",
    "varClass.extend([t/4 for t in range(len(eX)-1)])"
   ]
  },
  {
   "cell_type": "code",
   "execution_count": 212,
   "id": "319e034e",
   "metadata": {},
   "outputs": [
    {
     "data": {
      "image/png": "[encoded data removed]",
      "text/plain": [
       "<Figure size 432x288 with 1 Axes>"
      ]
     },
     "metadata": {
      "needs_background": "light"
     },
     "output_type": "display_data"
    }
   ],
   "source": [
    "fig=plt.figure()\n",
    "\n",
    "ax=fig.add_subplot()\n",
    "ax.set_title(\"Variance of 1D random walk (t=100)\")\n",
    "t=list(range(len(varq2)))\n",
    "ax.plot(varClass,color=\"g\",marker=\".\",markersize=1)\n",
    "ax.plot(varq1,color=\"b\",marker=\"o\",markersize=1)\n",
    "ax.plot(varq2,color=\"r\",marker=\".\",markersize=1)\n",
    "ax.legend([\"Classical\",\"|down,0>\",\"|up,0>+i|down,0>\"])\n",
    "\n",
    "plt.xlabel(\"Step Number\")\n",
    "plt.ylabel(\"Position Variance\")\n",
    "plt.show()\n"
   ]
  },
  {
   "cell_type": "code",
   "execution_count": 200,
   "id": "62fbab89",
   "metadata": {},
   "outputs": [
    {
     "data": {
      "text/plain": [
       "False"
      ]
     },
     "execution_count": 200,
     "metadata": {},
     "output_type": "execute_result"
    }
   ],
   "source": [
    "len(varq2)==len(varq1)==len(varClass)"
   ]
  },
  {
   "cell_type": "code",
   "execution_count": null,
   "id": "8edcea60",
   "metadata": {},
   "outputs": [],
   "source": []
  },
  {
   "cell_type": "code",
   "execution_count": null,
   "id": "4c9fbb0a",
   "metadata": {},
   "outputs": [],
   "source": [
    "v1=p2[2][('up',3)]\n",
    "v2=p2[2][(\"up\",-3)]\n"
   ]
  },
  {
   "cell_type": "code",
   "execution_count": null,
   "id": "ad2414ca",
   "metadata": {},
   "outputs": [],
   "source": [
    "print(f\"{v1}   {v2} \")"
   ]
  },
  {
   "cell_type": "code",
   "execution_count": null,
   "id": "ed2b6e58",
   "metadata": {},
   "outputs": [],
   "source": [
    "print(f\"{np.absolute(v1)**2}   {np.absolute(v2)**2} \")"
   ]
  },
  {
   "cell_type": "code",
   "execution_count": null,
   "id": "2d0a6bf6",
   "metadata": {},
   "outputs": [],
   "source": [
    "{s[1]:np.sum([np.absolute(v)**2 for k,v in p2[2].items() if k[1]==s[1]]) for s in p2[2].keys()}"
   ]
  },
  {
   "cell_type": "code",
   "execution_count": null,
   "id": "f15448a9",
   "metadata": {},
   "outputs": [],
   "source": [
    "l=p2[1]\n",
    "dat={s[1]:np.sum([np.absolute(v)**2 for k,v in l.items() if k[1]==s[1]]) for s in l.keys()}"
   ]
  },
  {
   "cell_type": "code",
   "execution_count": null,
   "id": "0d19d2d8",
   "metadata": {},
   "outputs": [],
   "source": [
    "dat"
   ]
  },
  {
   "cell_type": "code",
   "execution_count": null,
   "id": "a7a4e8e9",
   "metadata": {},
   "outputs": [],
   "source": [
    "1/32"
   ]
  },
  {
   "cell_type": "code",
   "execution_count": 16,
   "id": "f41ed173",
   "metadata": {},
   "outputs": [],
   "source": [
    "y,N=sym.symbols(\"y,N\")\n",
    "H=sym.Matrix([[-1,-y*sym.sqrt((N-1))],[-y*sym.sqrt((N-1)),0]])"
   ]
  },
  {
   "cell_type": "code",
   "execution_count": 17,
   "id": "2672015a",
   "metadata": {},
   "outputs": [],
   "source": [
    "ev=H.eigenvects()"
   ]
  },
  {
   "cell_type": "code",
   "execution_count": 18,
   "id": "50e37087",
   "metadata": {},
   "outputs": [
    {
     "data": {
      "text/latex": [
       "$\\displaystyle \\left[ \\left( - \\frac{\\sqrt{4 N y^{2} - 4 y^{2} + 1}}{2} - \\frac{1}{2}, \\  1, \\  \\left[ \\left[\\begin{matrix}- \\frac{- \\frac{\\sqrt{4 N y^{2} - 4 y^{2} + 1}}{2} - \\frac{1}{2}}{y \\sqrt{N - 1}}\\\\1\\end{matrix}\\right]\\right]\\right), \\  \\left( \\frac{\\sqrt{4 N y^{2} - 4 y^{2} + 1}}{2} - \\frac{1}{2}, \\  1, \\  \\left[ \\left[\\begin{matrix}- \\frac{\\frac{\\sqrt{4 N y^{2} - 4 y^{2} + 1}}{2} - \\frac{1}{2}}{y \\sqrt{N - 1}}\\\\1\\end{matrix}\\right]\\right]\\right)\\right]$"
      ],
      "text/plain": [
       "⎡⎛                                 ⎡⎡ ⎛     ___________________    ⎞ ⎤⎤⎞  ⎛   \n",
       "⎢⎜                                 ⎢⎢ ⎜    ╱      2      2         ⎟ ⎥⎥⎟  ⎜   \n",
       "⎢⎜     ___________________         ⎢⎢ ⎜  ╲╱  4⋅N⋅y  - 4⋅y  + 1    1⎟ ⎥⎥⎟  ⎜   \n",
       "⎢⎜    ╱      2      2              ⎢⎢-⎜- ────────────────────── - ─⎟ ⎥⎥⎟  ⎜  ╱\n",
       "⎢⎜  ╲╱  4⋅N⋅y  - 4⋅y  + 1    1     ⎢⎢ ⎝            2              2⎠ ⎥⎥⎟  ⎜╲╱ \n",
       "⎢⎜- ────────────────────── - ─, 1, ⎢⎢────────────────────────────────⎥⎥⎟, ⎜───\n",
       "⎢⎜            2              2     ⎢⎢              _______           ⎥⎥⎟  ⎜   \n",
       "⎢⎜                                 ⎢⎢          y⋅╲╱ N - 1            ⎥⎥⎟  ⎜   \n",
       "⎢⎜                                 ⎢⎢                                ⎥⎥⎟  ⎜   \n",
       "⎣⎝                                 ⎣⎣               1                ⎦⎦⎠  ⎝   \n",
       "\n",
       "                            ⎡⎡ ⎛   ___________________    ⎞ ⎤⎤⎞⎤\n",
       "                            ⎢⎢ ⎜  ╱      2      2         ⎟ ⎥⎥⎟⎥\n",
       "___________________         ⎢⎢ ⎜╲╱  4⋅N⋅y  - 4⋅y  + 1    1⎟ ⎥⎥⎟⎥\n",
       "      2      2              ⎢⎢-⎜────────────────────── - ─⎟ ⎥⎥⎟⎥\n",
       " 4⋅N⋅y  - 4⋅y  + 1    1     ⎢⎢ ⎝          2              2⎠ ⎥⎥⎟⎥\n",
       "─────────────────── - ─, 1, ⎢⎢──────────────────────────────⎥⎥⎟⎥\n",
       "       2              2     ⎢⎢             _______          ⎥⎥⎟⎥\n",
       "                            ⎢⎢         y⋅╲╱ N - 1           ⎥⎥⎟⎥\n",
       "                            ⎢⎢                              ⎥⎥⎟⎥\n",
       "                            ⎣⎣              1               ⎦⎦⎠⎦"
      ]
     },
     "execution_count": 18,
     "metadata": {},
     "output_type": "execute_result"
    }
   ],
   "source": [
    "ev"
   ]
  },
  {
   "cell_type": "code",
   "execution_count": 14,
   "id": "3069ee83",
   "metadata": {},
   "outputs": [
    {
     "data": {
      "text/latex": [
       "$\\displaystyle \\left\\{ - \\frac{\\sqrt{4 N^{2} y^{2} - 8 N y^{2} + 4 y^{2} + 1}}{2} - \\frac{1}{2} : 1, \\  \\frac{\\sqrt{4 N^{2} y^{2} - 8 N y^{2} + 4 y^{2} + 1}}{2} - \\frac{1}{2} : 1\\right\\}$"
      ],
      "text/plain": [
       "⎧     _____________________________            _____________________________  \n",
       "⎪    ╱    2  2        2      2                ╱    2  2        2      2       \n",
       "⎨  ╲╱  4⋅N ⋅y  - 8⋅N⋅y  + 4⋅y  + 1    1     ╲╱  4⋅N ⋅y  - 8⋅N⋅y  + 4⋅y  + 1   \n",
       "⎪- ──────────────────────────────── - ─: 1, ──────────────────────────────── -\n",
       "⎩                 2                   2                    2                  \n",
       "\n",
       "     ⎫\n",
       "     ⎪\n",
       " 1   ⎬\n",
       " ─: 1⎪\n",
       " 2   ⎭"
      ]
     },
     "execution_count": 14,
     "metadata": {},
     "output_type": "execute_result"
    }
   ],
   "source": [
    "H.eigenvals()"
   ]
  },
  {
   "cell_type": "code",
   "execution_count": 25,
   "id": "47627078",
   "metadata": {},
   "outputs": [],
   "source": [
    "x=np.matrix([[0,1],[1,0]])"
   ]
  },
  {
   "cell_type": "code",
   "execution_count": 30,
   "id": "9dd0e884",
   "metadata": {},
   "outputs": [
    {
     "data": {
      "text/plain": [
       "matrix([[ 0.+0.j, -1.+0.j],\n",
       "        [-1.+0.j,  0.+0.j]])"
      ]
     },
     "execution_count": 30,
     "metadata": {},
     "output_type": "execute_result"
    }
   ],
   "source": [
    "((x*1j)).dot(x).dot(x*1j)"
   ]
  },
  {
   "cell_type": "code",
   "execution_count": null,
   "id": "00f5c887",
   "metadata": {},
   "outputs": [],
   "source": [
    "P=sym.Matrix([])"
   ]
  },
  {
   "cell_type": "code",
   "execution_count": 39,
   "id": "35ac953a",
   "metadata": {},
   "outputs": [],
   "source": [
    "S=\"XZZXI\"\n",
    "stabs=[S]"
   ]
  },
  {
   "cell_type": "code",
   "execution_count": 40,
   "id": "ab63553d",
   "metadata": {},
   "outputs": [],
   "source": [
    "for s in range(4):\n",
    "    stabs.append(stabs[-1][-1]+stabs[-1][:-1])"
   ]
  },
  {
   "cell_type": "code",
   "execution_count": 41,
   "id": "ee198692",
   "metadata": {},
   "outputs": [
    {
     "data": {
      "text/plain": [
       "['XZZXI', 'IXZZX', 'XIXZZ', 'ZXIXZ', 'ZZXIX']"
      ]
     },
     "execution_count": 41,
     "metadata": {},
     "output_type": "execute_result"
    }
   ],
   "source": [
    "stabs # cyclic Abelian stabilizers"
   ]
  },
  {
   "cell_type": "code",
   "execution_count": 55,
   "id": "40192891",
   "metadata": {},
   "outputs": [],
   "source": [
    "pauli=(\"X\",\"Y\",\"Z\")\n",
    "errs=[(opA+str(i),opB+str(j)) for opA in pauli for opB in pauli for i in range(2) for j in range(5)]"
   ]
  },
  {
   "cell_type": "raw",
   "id": "b41fceb3",
   "metadata": {},
   "source": []
  },
  {
   "cell_type": "code",
   "execution_count": 62,
   "id": "41d38e4a",
   "metadata": {},
   "outputs": [],
   "source": [
    "lie=lambda s1,s2: {i for i in pauli if i!=s1 and i!=s2}.pop()"
   ]
  },
  {
   "cell_type": "code",
   "execution_count": 64,
   "id": "92b9ff34",
   "metadata": {},
   "outputs": [
    {
     "data": {
      "text/plain": [
       "'X'"
      ]
     },
     "execution_count": 64,
     "metadata": {},
     "output_type": "execute_result"
    }
   ],
   "source": [
    "lie(\"Y\",\"Z\") #neg not req in this case"
   ]
  },
  {
   "cell_type": "code",
   "execution_count": 80,
   "id": "59961516",
   "metadata": {},
   "outputs": [],
   "source": [
    "eMatch=dict()\n",
    "for e in errs:\n",
    "    matched=False\n",
    "    i=0\n",
    "    e0,e1=e\n",
    "    n0=int(e0[1])\n",
    "    n1=int(e1[1])\n",
    "    if n0==n1:\n",
    "        if e0[0]==e1[0]:\n",
    "            matchStab=\"Redundant\"\n",
    "            matched =True\n",
    "        e0=lie(e0[0],e1[0])\n",
    "        while not matched:\n",
    "            s=stabs[i]\n",
    "            if s[n0]!=e0 and s[n0]!=\"I\":\n",
    "                #print(n0)\n",
    "                #print(s[n0])\n",
    "                #print(\"ho\\n\\n\")\n",
    "                matchStab=i ##add one in table\n",
    "                matched=True\n",
    "            i+=1\n",
    "            \n",
    "    while not matched:\n",
    "        s=stabs[i]\n",
    "        c=0\n",
    "        if s[n0]!=e0[0] and s[n0]!=\"I\":\n",
    "            c+=1\n",
    "        if s[n1]!=e1[0] and s[n1]!=\"I\":\n",
    "            c+=1\n",
    "        if c%2==1:\n",
    "            matchStab=i\n",
    "            matched=True\n",
    "        i+=1\n",
    "    eMatch[e]=matchStab"
   ]
  },
  {
   "cell_type": "code",
   "execution_count": 71,
   "id": "3a2c682a",
   "metadata": {
    "collapsed": true
   },
   "outputs": [
    {
     "data": {
      "text/plain": [
       "{('X0', 'X0'): 'I',\n",
       " ('X0', 'X1'): 0,\n",
       " ('X0', 'X2'): 0,\n",
       " ('X0', 'X3'): 1,\n",
       " ('X0', 'X4'): 2,\n",
       " ('X1', 'X0'): 0,\n",
       " ('X1', 'X1'): 'I',\n",
       " ('X1', 'X2'): 1,\n",
       " ('X1', 'X3'): 0,\n",
       " ('X1', 'X4'): 0,\n",
       " ('X0', 'Y0'): 0,\n",
       " ('X0', 'Y1'): 0,\n",
       " ('X0', 'Y2'): 0,\n",
       " ('X0', 'Y3'): 0,\n",
       " ('X0', 'Y4'): 1,\n",
       " ('X1', 'Y0'): 2,\n",
       " ('X1', 'Y1'): 1,\n",
       " ('X1', 'Y2'): 1,\n",
       " ('X1', 'Y3'): 1,\n",
       " ('X1', 'Y4'): 0,\n",
       " ('X0', 'Z0'): 0,\n",
       " ('X0', 'Z1'): 1,\n",
       " ('X0', 'Z2'): 2,\n",
       " ('X0', 'Z3'): 0,\n",
       " ('X0', 'Z4'): 1,\n",
       " ('X1', 'Z0'): 2,\n",
       " ('X1', 'Z1'): 0,\n",
       " ('X1', 'Z2'): 0,\n",
       " ('X1', 'Z3'): 3,\n",
       " ('X1', 'Z4'): 0,\n",
       " ('Y0', 'X0'): 0,\n",
       " ('Y0', 'X1'): 2,\n",
       " ('Y0', 'X2'): 1,\n",
       " ('Y0', 'X3'): 0,\n",
       " ('Y0', 'X4'): 0,\n",
       " ('Y1', 'X0'): 0,\n",
       " ('Y1', 'X1'): 1,\n",
       " ('Y1', 'X2'): 3,\n",
       " ('Y1', 'X3'): 0,\n",
       " ('Y1', 'X4'): 0,\n",
       " ('Y0', 'Y0'): 'I',\n",
       " ('Y0', 'Y1'): 1,\n",
       " ('Y0', 'Y2'): 1,\n",
       " ('Y0', 'Y3'): 1,\n",
       " ('Y0', 'Y4'): 0,\n",
       " ('Y1', 'Y0'): 1,\n",
       " ('Y1', 'Y1'): 'I',\n",
       " ('Y1', 'Y2'): 2,\n",
       " ('Y1', 'Y3'): 2,\n",
       " ('Y1', 'Y4'): 0,\n",
       " ('Y0', 'Z0'): 3,\n",
       " ('Y0', 'Z1'): 0,\n",
       " ('Y0', 'Z2'): 0,\n",
       " ('Y0', 'Z3'): 2,\n",
       " ('Y0', 'Z4'): 0,\n",
       " ('Y1', 'Z0'): 1,\n",
       " ('Y1', 'Z1'): 0,\n",
       " ('Y1', 'Z2'): 0,\n",
       " ('Y1', 'Z3'): 1,\n",
       " ('Y1', 'Z4'): 0,\n",
       " ('Z0', 'X0'): 0,\n",
       " ('Z0', 'X1'): 2,\n",
       " ('Z0', 'X2'): 1,\n",
       " ('Z0', 'X3'): 0,\n",
       " ('Z0', 'X4'): 0,\n",
       " ('Z1', 'X0'): 1,\n",
       " ('Z1', 'X1'): 0,\n",
       " ('Z1', 'X2'): 0,\n",
       " ('Z1', 'X3'): 2,\n",
       " ('Z1', 'X4'): 1,\n",
       " ('Z0', 'Y0'): 3,\n",
       " ('Z0', 'Y1'): 1,\n",
       " ('Z0', 'Y2'): 1,\n",
       " ('Z0', 'Y3'): 1,\n",
       " ('Z0', 'Y4'): 0,\n",
       " ('Z1', 'Y0'): 0,\n",
       " ('Z1', 'Y1'): 0,\n",
       " ('Z1', 'Y2'): 0,\n",
       " ('Z1', 'Y3'): 0,\n",
       " ('Z1', 'Y4'): 2,\n",
       " ('Z0', 'Z0'): 'I',\n",
       " ('Z0', 'Z1'): 0,\n",
       " ('Z0', 'Z2'): 0,\n",
       " ('Z0', 'Z3'): 2,\n",
       " ('Z0', 'Z4'): 0,\n",
       " ('Z1', 'Z0'): 0,\n",
       " ('Z1', 'Z1'): 'I',\n",
       " ('Z1', 'Z2'): 1,\n",
       " ('Z1', 'Z3'): 0,\n",
       " ('Z1', 'Z4'): 3}"
      ]
     },
     "execution_count": 71,
     "metadata": {},
     "output_type": "execute_result"
    }
   ],
   "source": [
    "eMatch"
   ]
  },
  {
   "cell_type": "code",
   "execution_count": 127,
   "id": "f3a71e2a",
   "metadata": {},
   "outputs": [],
   "source": [
    "p00,p01,p10,p11=sym.symbols(\"p00,p01,p10,p11\")\n",
    "symType=type(p00)\n",
    "pA=sym.Matrix([[p00,p01],[p10,p11]])\n",
    "\n",
    "pauliX=sym.Matrix([[0,1],[1,0]])\n",
    "pauliY=sym.Matrix([[0,-1j],[1j,0]])\n",
    "pauliZ=sym.Matrix([[1,0],[0,-1]])\n",
    "paulis=[pauliX,pauliY,pauliZ]"
   ]
  },
  {
   "cell_type": "code",
   "execution_count": 77,
   "id": "5cb0da16",
   "metadata": {},
   "outputs": [
    {
     "data": {
      "text/latex": [
       "$\\displaystyle \\left[\\begin{matrix}0 & -1\\\\1 & 0\\end{matrix}\\right]$"
      ],
      "text/plain": [
       "⎡0  -1⎤\n",
       "⎢     ⎥\n",
       "⎣1  0 ⎦"
      ]
     },
     "execution_count": 77,
     "metadata": {},
     "output_type": "execute_result"
    }
   ],
   "source": [
    "pauliX*pauliZ"
   ]
  },
  {
   "cell_type": "code",
   "execution_count": 78,
   "id": "48476653",
   "metadata": {},
   "outputs": [
    {
     "data": {
      "text/latex": [
       "$\\displaystyle \\left[\\begin{matrix}0 & - 1.0 i\\\\1.0 i & 0\\end{matrix}\\right]$"
      ],
      "text/plain": [
       "⎡  0    -1.0⋅ⅈ⎤\n",
       "⎢             ⎥\n",
       "⎣1.0⋅ⅈ    0   ⎦"
      ]
     },
     "execution_count": 78,
     "metadata": {},
     "output_type": "execute_result"
    }
   ],
   "source": [
    "pauliY"
   ]
  },
  {
   "cell_type": "code",
   "execution_count": 106,
   "id": "66f6fc86",
   "metadata": {},
   "outputs": [],
   "source": [
    "outTable=r\"\\begin{tabular}{||c |c ||} \\hline \"\n",
    "\n",
    "outTable+=\"Operator $E_{j}^{\\dagger}E_i$ & Anticommutes with \" #col headers\n",
    "outTable+= r\"\\\\ [0.5ex] \\n \\hline \""
   ]
  },
  {
   "cell_type": "code",
   "execution_count": 146,
   "id": "fcba8c28",
   "metadata": {},
   "outputs": [],
   "source": [
    "outTable=\"\"\n",
    "\n",
    "for e,v in eMatch.items():\n",
    "    #outTable+=r\"\\n \\hline \\n \"\n",
    "    if v!=\"Redundant\":\n",
    "        v=f\"g_{v+1}\"\n",
    "    outTable+=f\"${e[1][0]}_{int(e[1][1])+1}{e[0][0]}_{int(e[0][1])+1}$ & $ {v} $\"\n",
    "    outTable+=r\"\\\\\"\n",
    "    #outTable+=r\"\\\\ \\n \\hline \"\n",
    "#outTable+=r\" \\n \\end{tabular}\""
   ]
  },
  {
   "cell_type": "code",
   "execution_count": 147,
   "id": "e23feb12",
   "metadata": {},
   "outputs": [
    {
     "data": {
      "text/latex": [
       "$\\displaystyle 1836$"
      ],
      "text/plain": [
       "1836"
      ]
     },
     "execution_count": 147,
     "metadata": {},
     "output_type": "execute_result"
    }
   ],
   "source": [
    "open(\"stabilizerTable.txt\",\"w\").write(outTable)"
   ]
  },
  {
   "cell_type": "code",
   "execution_count": 149,
   "id": "b00521f9",
   "metadata": {},
   "outputs": [
    {
     "data": {
      "text/latex": [
       "$\\displaystyle 56.25$"
      ],
      "text/plain": [
       "56.25"
      ]
     },
     "execution_count": 149,
     "metadata": {},
     "output_type": "execute_result"
    }
   ],
   "source": [
    "s2=np.sqrt(2)\n",
    "\n",
    "(9*4+9*30+9*16)/8"
   ]
  },
  {
   "cell_type": "code",
   "execution_count": 158,
   "id": "0cea10d2",
   "metadata": {},
   "outputs": [
    {
     "data": {
      "text/latex": [
       "$\\displaystyle 4.5$"
      ],
      "text/plain": [
       "4.5"
      ]
     },
     "execution_count": 158,
     "metadata": {},
     "output_type": "execute_result"
    }
   ],
   "source": [
    "(1/8*(9+3*6+9))"
   ]
  },
  {
   "cell_type": "code",
   "execution_count": 155,
   "id": "ecb894e8",
   "metadata": {},
   "outputs": [
    {
     "data": {
      "text/latex": [
       "$\\displaystyle 0.617283950617284$"
      ],
      "text/plain": [
       "0.6172839506172838"
      ]
     },
     "execution_count": 155,
     "metadata": {},
     "output_type": "execute_result"
    }
   ],
   "source": [
    "(2/9)**3*56.25"
   ]
  },
  {
   "cell_type": "code",
   "execution_count": 108,
   "id": "4dd873e1",
   "metadata": {
    "scrolled": true
   },
   "outputs": [
    {
     "name": "stdout",
     "output_type": "stream",
     "text": [
      "('X0', 'X0')\n",
      "Redundant\n",
      "('X0', 'X1')\n",
      "0\n",
      "('X0', 'X2')\n",
      "0\n",
      "('X0', 'X3')\n",
      "1\n",
      "('X0', 'X4')\n",
      "2\n",
      "('X1', 'X0')\n",
      "0\n",
      "('X1', 'X1')\n",
      "Redundant\n",
      "('X1', 'X2')\n",
      "1\n",
      "('X1', 'X3')\n",
      "0\n",
      "('X1', 'X4')\n",
      "0\n",
      "('X0', 'Y0')\n",
      "0\n",
      "('X0', 'Y1')\n",
      "0\n",
      "('X0', 'Y2')\n",
      "0\n",
      "('X0', 'Y3')\n",
      "0\n",
      "('X0', 'Y4')\n",
      "1\n",
      "('X1', 'Y0')\n",
      "2\n",
      "('X1', 'Y1')\n",
      "1\n",
      "('X1', 'Y2')\n",
      "1\n",
      "('X1', 'Y3')\n",
      "1\n",
      "('X1', 'Y4')\n",
      "0\n",
      "('X0', 'Z0')\n",
      "0\n",
      "('X0', 'Z1')\n",
      "1\n",
      "('X0', 'Z2')\n",
      "2\n",
      "('X0', 'Z3')\n",
      "0\n",
      "('X0', 'Z4')\n",
      "1\n",
      "('X1', 'Z0')\n",
      "2\n",
      "('X1', 'Z1')\n",
      "0\n",
      "('X1', 'Z2')\n",
      "0\n",
      "('X1', 'Z3')\n",
      "3\n",
      "('X1', 'Z4')\n",
      "0\n",
      "('Y0', 'X0')\n",
      "0\n",
      "('Y0', 'X1')\n",
      "2\n",
      "('Y0', 'X2')\n",
      "1\n",
      "('Y0', 'X3')\n",
      "0\n",
      "('Y0', 'X4')\n",
      "0\n",
      "('Y1', 'X0')\n",
      "0\n",
      "('Y1', 'X1')\n",
      "1\n",
      "('Y1', 'X2')\n",
      "3\n",
      "('Y1', 'X3')\n",
      "0\n",
      "('Y1', 'X4')\n",
      "0\n",
      "('Y0', 'Y0')\n",
      "Redundant\n",
      "('Y0', 'Y1')\n",
      "1\n",
      "('Y0', 'Y2')\n",
      "1\n",
      "('Y0', 'Y3')\n",
      "1\n",
      "('Y0', 'Y4')\n",
      "0\n",
      "('Y1', 'Y0')\n",
      "1\n",
      "('Y1', 'Y1')\n",
      "Redundant\n",
      "('Y1', 'Y2')\n",
      "2\n",
      "('Y1', 'Y3')\n",
      "2\n",
      "('Y1', 'Y4')\n",
      "0\n",
      "('Y0', 'Z0')\n",
      "3\n",
      "('Y0', 'Z1')\n",
      "0\n",
      "('Y0', 'Z2')\n",
      "0\n",
      "('Y0', 'Z3')\n",
      "2\n",
      "('Y0', 'Z4')\n",
      "0\n",
      "('Y1', 'Z0')\n",
      "1\n",
      "('Y1', 'Z1')\n",
      "0\n",
      "('Y1', 'Z2')\n",
      "0\n",
      "('Y1', 'Z3')\n",
      "1\n",
      "('Y1', 'Z4')\n",
      "0\n",
      "('Z0', 'X0')\n",
      "0\n",
      "('Z0', 'X1')\n",
      "2\n",
      "('Z0', 'X2')\n",
      "1\n",
      "('Z0', 'X3')\n",
      "0\n",
      "('Z0', 'X4')\n",
      "0\n",
      "('Z1', 'X0')\n",
      "1\n",
      "('Z1', 'X1')\n",
      "0\n",
      "('Z1', 'X2')\n",
      "0\n",
      "('Z1', 'X3')\n",
      "2\n",
      "('Z1', 'X4')\n",
      "1\n",
      "('Z0', 'Y0')\n",
      "3\n",
      "('Z0', 'Y1')\n",
      "1\n",
      "('Z0', 'Y2')\n",
      "1\n",
      "('Z0', 'Y3')\n",
      "1\n",
      "('Z0', 'Y4')\n",
      "0\n",
      "('Z1', 'Y0')\n",
      "0\n",
      "('Z1', 'Y1')\n",
      "0\n",
      "('Z1', 'Y2')\n",
      "0\n",
      "('Z1', 'Y3')\n",
      "0\n",
      "('Z1', 'Y4')\n",
      "2\n",
      "('Z0', 'Z0')\n",
      "Redundant\n",
      "('Z0', 'Z1')\n",
      "0\n",
      "('Z0', 'Z2')\n",
      "0\n",
      "('Z0', 'Z3')\n",
      "2\n",
      "('Z0', 'Z4')\n",
      "0\n",
      "('Z1', 'Z0')\n",
      "0\n",
      "('Z1', 'Z1')\n",
      "Redundant\n",
      "('Z1', 'Z2')\n",
      "1\n",
      "('Z1', 'Z3')\n",
      "0\n",
      "('Z1', 'Z4')\n",
      "3\n"
     ]
    }
   ],
   "source": [
    "for e,v in eMatch.items():\n",
    "    print(e)\n",
    "    print(v)"
   ]
  },
  {
   "cell_type": "code",
   "execution_count": 122,
   "id": "fdbe90db",
   "metadata": {},
   "outputs": [
    {
     "data": {
      "text/plain": [
       "'\\\\begin{tabular}{||c |c ||} \\\\hline Operator $E_{j}^{\\\\dagger}E_i$ & Anticommutes with \\\\\\\\ [0.5ex] \\\\n \\\\hline \\\\n \\\\hline \\\\n $X_0X_0$ & Redundant \\\\\\\\ \\\\n \\\\hline \\\\n \\\\hline \\\\n $X_1X_0$ & 0 \\\\\\\\ \\\\n \\\\hline \\\\n \\\\hline \\\\n $X_2X_0$ & 0 \\\\\\\\ \\\\n \\\\hline \\\\n \\\\hline \\\\n $X_3X_0$ & 1 \\\\\\\\ \\\\n \\\\hline \\\\n \\\\hline \\\\n $X_4X_0$ & 2 \\\\\\\\ \\\\n \\\\hline \\\\n \\\\hline \\\\n $X_0X_1$ & 0 \\\\\\\\ \\\\n \\\\hline \\\\n \\\\hline \\\\n $X_1X_1$ & Redundant \\\\\\\\ \\\\n \\\\hline \\\\n \\\\hline \\\\n $X_2X_1$ & 1 \\\\\\\\ \\\\n \\\\hline \\\\n \\\\hline \\\\n $X_3X_1$ & 0 \\\\\\\\ \\\\n \\\\hline \\\\n \\\\hline \\\\n $X_4X_1$ & 0 \\\\\\\\ \\\\n \\\\hline \\\\n \\\\hline \\\\n $Y_0X_0$ & 0 \\\\\\\\ \\\\n \\\\hline \\\\n \\\\hline \\\\n $Y_1X_0$ & 0 \\\\\\\\ \\\\n \\\\hline \\\\n \\\\hline \\\\n $Y_2X_0$ & 0 \\\\\\\\ \\\\n \\\\hline \\\\n \\\\hline \\\\n $Y_3X_0$ & 0 \\\\\\\\ \\\\n \\\\hline \\\\n \\\\hline \\\\n $Y_4X_0$ & 1 \\\\\\\\ \\\\n \\\\hline \\\\n \\\\hline \\\\n $Y_0X_1$ & 2 \\\\\\\\ \\\\n \\\\hline \\\\n \\\\hline \\\\n $Y_1X_1$ & 1 \\\\\\\\ \\\\n \\\\hline \\\\n \\\\hline \\\\n $Y_2X_1$ & 1 \\\\\\\\ \\\\n \\\\hline \\\\n \\\\hline \\\\n $Y_3X_1$ & 1 \\\\\\\\ \\\\n \\\\hline \\\\n \\\\hline \\\\n $Y_4X_1$ & 0 \\\\\\\\ \\\\n \\\\hline \\\\n \\\\hline \\\\n $Z_0X_0$ & 0 \\\\\\\\ \\\\n \\\\hline \\\\n \\\\hline \\\\n $Z_1X_0$ & 1 \\\\\\\\ \\\\n \\\\hline \\\\n \\\\hline \\\\n $Z_2X_0$ & 2 \\\\\\\\ \\\\n \\\\hline \\\\n \\\\hline \\\\n $Z_3X_0$ & 0 \\\\\\\\ \\\\n \\\\hline \\\\n \\\\hline \\\\n $Z_4X_0$ & 1 \\\\\\\\ \\\\n \\\\hline \\\\n \\\\hline \\\\n $Z_0X_1$ & 2 \\\\\\\\ \\\\n \\\\hline \\\\n \\\\hline \\\\n $Z_1X_1$ & 0 \\\\\\\\ \\\\n \\\\hline \\\\n \\\\hline \\\\n $Z_2X_1$ & 0 \\\\\\\\ \\\\n \\\\hline \\\\n \\\\hline \\\\n $Z_3X_1$ & 3 \\\\\\\\ \\\\n \\\\hline \\\\n \\\\hline \\\\n $Z_4X_1$ & 0 \\\\\\\\ \\\\n \\\\hline \\\\n \\\\hline \\\\n $X_0Y_0$ & 0 \\\\\\\\ \\\\n \\\\hline \\\\n \\\\hline \\\\n $X_1Y_0$ & 2 \\\\\\\\ \\\\n \\\\hline \\\\n \\\\hline \\\\n $X_2Y_0$ & 1 \\\\\\\\ \\\\n \\\\hline \\\\n \\\\hline \\\\n $X_3Y_0$ & 0 \\\\\\\\ \\\\n \\\\hline \\\\n \\\\hline \\\\n $X_4Y_0$ & 0 \\\\\\\\ \\\\n \\\\hline \\\\n \\\\hline \\\\n $X_0Y_1$ & 0 \\\\\\\\ \\\\n \\\\hline \\\\n \\\\hline \\\\n $X_1Y_1$ & 1 \\\\\\\\ \\\\n \\\\hline \\\\n \\\\hline \\\\n $X_2Y_1$ & 3 \\\\\\\\ \\\\n \\\\hline \\\\n \\\\hline \\\\n $X_3Y_1$ & 0 \\\\\\\\ \\\\n \\\\hline \\\\n \\\\hline \\\\n $X_4Y_1$ & 0 \\\\\\\\ \\\\n \\\\hline \\\\n \\\\hline \\\\n $Y_0Y_0$ & Redundant \\\\\\\\ \\\\n \\\\hline \\\\n \\\\hline \\\\n $Y_1Y_0$ & 1 \\\\\\\\ \\\\n \\\\hline \\\\n \\\\hline \\\\n $Y_2Y_0$ & 1 \\\\\\\\ \\\\n \\\\hline \\\\n \\\\hline \\\\n $Y_3Y_0$ & 1 \\\\\\\\ \\\\n \\\\hline \\\\n \\\\hline \\\\n $Y_4Y_0$ & 0 \\\\\\\\ \\\\n \\\\hline \\\\n \\\\hline \\\\n $Y_0Y_1$ & 1 \\\\\\\\ \\\\n \\\\hline \\\\n \\\\hline \\\\n $Y_1Y_1$ & Redundant \\\\\\\\ \\\\n \\\\hline \\\\n \\\\hline \\\\n $Y_2Y_1$ & 2 \\\\\\\\ \\\\n \\\\hline \\\\n \\\\hline \\\\n $Y_3Y_1$ & 2 \\\\\\\\ \\\\n \\\\hline \\\\n \\\\hline \\\\n $Y_4Y_1$ & 0 \\\\\\\\ \\\\n \\\\hline \\\\n \\\\hline \\\\n $Z_0Y_0$ & 3 \\\\\\\\ \\\\n \\\\hline \\\\n \\\\hline \\\\n $Z_1Y_0$ & 0 \\\\\\\\ \\\\n \\\\hline \\\\n \\\\hline \\\\n $Z_2Y_0$ & 0 \\\\\\\\ \\\\n \\\\hline \\\\n \\\\hline \\\\n $Z_3Y_0$ & 2 \\\\\\\\ \\\\n \\\\hline \\\\n \\\\hline \\\\n $Z_4Y_0$ & 0 \\\\\\\\ \\\\n \\\\hline \\\\n \\\\hline \\\\n $Z_0Y_1$ & 1 \\\\\\\\ \\\\n \\\\hline \\\\n \\\\hline \\\\n $Z_1Y_1$ & 0 \\\\\\\\ \\\\n \\\\hline \\\\n \\\\hline \\\\n $Z_2Y_1$ & 0 \\\\\\\\ \\\\n \\\\hline \\\\n \\\\hline \\\\n $Z_3Y_1$ & 1 \\\\\\\\ \\\\n \\\\hline \\\\n \\\\hline \\\\n $Z_4Y_1$ & 0 \\\\\\\\ \\\\n \\\\hline \\\\n \\\\hline \\\\n $X_0Z_0$ & 0 \\\\\\\\ \\\\n \\\\hline \\\\n \\\\hline \\\\n $X_1Z_0$ & 2 \\\\\\\\ \\\\n \\\\hline \\\\n \\\\hline \\\\n $X_2Z_0$ & 1 \\\\\\\\ \\\\n \\\\hline \\\\n \\\\hline \\\\n $X_3Z_0$ & 0 \\\\\\\\ \\\\n \\\\hline \\\\n \\\\hline \\\\n $X_4Z_0$ & 0 \\\\\\\\ \\\\n \\\\hline \\\\n \\\\hline \\\\n $X_0Z_1$ & 1 \\\\\\\\ \\\\n \\\\hline \\\\n \\\\hline \\\\n $X_1Z_1$ & 0 \\\\\\\\ \\\\n \\\\hline \\\\n \\\\hline \\\\n $X_2Z_1$ & 0 \\\\\\\\ \\\\n \\\\hline \\\\n \\\\hline \\\\n $X_3Z_1$ & 2 \\\\\\\\ \\\\n \\\\hline \\\\n \\\\hline \\\\n $X_4Z_1$ & 1 \\\\\\\\ \\\\n \\\\hline \\\\n \\\\hline \\\\n $Y_0Z_0$ & 3 \\\\\\\\ \\\\n \\\\hline \\\\n \\\\hline \\\\n $Y_1Z_0$ & 1 \\\\\\\\ \\\\n \\\\hline \\\\n \\\\hline \\\\n $Y_2Z_0$ & 1 \\\\\\\\ \\\\n \\\\hline \\\\n \\\\hline \\\\n $Y_3Z_0$ & 1 \\\\\\\\ \\\\n \\\\hline \\\\n \\\\hline \\\\n $Y_4Z_0$ & 0 \\\\\\\\ \\\\n \\\\hline \\\\n \\\\hline \\\\n $Y_0Z_1$ & 0 \\\\\\\\ \\\\n \\\\hline \\\\n \\\\hline \\\\n $Y_1Z_1$ & 0 \\\\\\\\ \\\\n \\\\hline \\\\n \\\\hline \\\\n $Y_2Z_1$ & 0 \\\\\\\\ \\\\n \\\\hline \\\\n \\\\hline \\\\n $Y_3Z_1$ & 0 \\\\\\\\ \\\\n \\\\hline \\\\n \\\\hline \\\\n $Y_4Z_1$ & 2 \\\\\\\\ \\\\n \\\\hline \\\\n \\\\hline \\\\n $Z_0Z_0$ & Redundant \\\\\\\\ \\\\n \\\\hline \\\\n \\\\hline \\\\n $Z_1Z_0$ & 0 \\\\\\\\ \\\\n \\\\hline \\\\n \\\\hline \\\\n $Z_2Z_0$ & 0 \\\\\\\\ \\\\n \\\\hline \\\\n \\\\hline \\\\n $Z_3Z_0$ & 2 \\\\\\\\ \\\\n \\\\hline \\\\n \\\\hline \\\\n $Z_4Z_0$ & 0 \\\\\\\\ \\\\n \\\\hline \\\\n \\\\hline \\\\n $Z_0Z_1$ & 0 \\\\\\\\ \\\\n \\\\hline \\\\n \\\\hline \\\\n $Z_1Z_1$ & Redundant \\\\\\\\ \\\\n \\\\hline \\\\n \\\\hline \\\\n $Z_2Z_1$ & 1 \\\\\\\\ \\\\n \\\\hline \\\\n \\\\hline \\\\n $Z_3Z_1$ & 0 \\\\\\\\ \\\\n \\\\hline \\\\n \\\\hline \\\\n $Z_4Z_1$ & 3 \\\\\\\\ \\\\n \\\\hline  \\\\n \\\\end{tabular}'"
      ]
     },
     "execution_count": 122,
     "metadata": {},
     "output_type": "execute_result"
    }
   ],
   "source": [
    "outTable"
   ]
  },
  {
   "cell_type": "code",
   "execution_count": 110,
   "id": "e333d2c1",
   "metadata": {},
   "outputs": [],
   "source": [
    "import pandas as pd\n"
   ]
  },
  {
   "cell_type": "code",
   "execution_count": 116,
   "id": "4e76ee67",
   "metadata": {},
   "outputs": [],
   "source": [
    "dat=pd.DataFrame.from_dict(eMatch,orient=\"index\")"
   ]
  },
  {
   "cell_type": "code",
   "execution_count": 117,
   "id": "a0163b22",
   "metadata": {},
   "outputs": [
    {
     "data": {
      "text/html": [
       "<div>\n",
       "<style scoped>\n",
       "    .dataframe tbody tr th:only-of-type {\n",
       "        vertical-align: middle;\n",
       "    }\n",
       "\n",
       "    .dataframe tbody tr th {\n",
       "        vertical-align: top;\n",
       "    }\n",
       "\n",
       "    .dataframe thead th {\n",
       "        text-align: right;\n",
       "    }\n",
       "</style>\n",
       "<table border=\"1\" class=\"dataframe\">\n",
       "  <thead>\n",
       "    <tr style=\"text-align: right;\">\n",
       "      <th></th>\n",
       "      <th>0</th>\n",
       "    </tr>\n",
       "  </thead>\n",
       "  <tbody>\n",
       "    <tr>\n",
       "      <th>(X0, X0)</th>\n",
       "      <td>Redundant</td>\n",
       "    </tr>\n",
       "    <tr>\n",
       "      <th>(X0, X1)</th>\n",
       "      <td>0</td>\n",
       "    </tr>\n",
       "    <tr>\n",
       "      <th>(X0, X2)</th>\n",
       "      <td>0</td>\n",
       "    </tr>\n",
       "    <tr>\n",
       "      <th>(X0, X3)</th>\n",
       "      <td>1</td>\n",
       "    </tr>\n",
       "    <tr>\n",
       "      <th>(X0, X4)</th>\n",
       "      <td>2</td>\n",
       "    </tr>\n",
       "    <tr>\n",
       "      <th>...</th>\n",
       "      <td>...</td>\n",
       "    </tr>\n",
       "    <tr>\n",
       "      <th>(Z1, Z0)</th>\n",
       "      <td>0</td>\n",
       "    </tr>\n",
       "    <tr>\n",
       "      <th>(Z1, Z1)</th>\n",
       "      <td>Redundant</td>\n",
       "    </tr>\n",
       "    <tr>\n",
       "      <th>(Z1, Z2)</th>\n",
       "      <td>1</td>\n",
       "    </tr>\n",
       "    <tr>\n",
       "      <th>(Z1, Z3)</th>\n",
       "      <td>0</td>\n",
       "    </tr>\n",
       "    <tr>\n",
       "      <th>(Z1, Z4)</th>\n",
       "      <td>3</td>\n",
       "    </tr>\n",
       "  </tbody>\n",
       "</table>\n",
       "<p>90 rows × 1 columns</p>\n",
       "</div>"
      ],
      "text/plain": [
       "                  0\n",
       "(X0, X0)  Redundant\n",
       "(X0, X1)          0\n",
       "(X0, X2)          0\n",
       "(X0, X3)          1\n",
       "(X0, X4)          2\n",
       "...             ...\n",
       "(Z1, Z0)          0\n",
       "(Z1, Z1)  Redundant\n",
       "(Z1, Z2)          1\n",
       "(Z1, Z3)          0\n",
       "(Z1, Z4)          3\n",
       "\n",
       "[90 rows x 1 columns]"
      ]
     },
     "execution_count": 117,
     "metadata": {},
     "output_type": "execute_result"
    }
   ],
   "source": [
    "dat"
   ]
  },
  {
   "cell_type": "code",
   "execution_count": 120,
   "id": "f64f0265",
   "metadata": {},
   "outputs": [
    {
     "name": "stderr",
     "output_type": "stream",
     "text": [
      "C:\\Users\\Seth\\AppData\\Local\\Temp/ipykernel_15740/1327489656.py:1: FutureWarning: In future versions `DataFrame.to_latex` is expected to utilise the base implementation of `Styler.to_latex` for formatting and rendering. The arguments signature may therefore change. It is recommended instead to use `DataFrame.style.to_latex` which also contains additional functionality.\n",
      "  dat.to_latex()\n"
     ]
    },
    {
     "data": {
      "text/plain": [
       "'\\\\begin{tabular}{ll}\\n\\\\toprule\\n{} &          0 \\\\\\\\\\n\\\\midrule\\n(X0, X0) &  Redundant \\\\\\\\\\n(X0, X1) &          0 \\\\\\\\\\n(X0, X2) &          0 \\\\\\\\\\n(X0, X3) &          1 \\\\\\\\\\n(X0, X4) &          2 \\\\\\\\\\n(X1, X0) &          0 \\\\\\\\\\n(X1, X1) &  Redundant \\\\\\\\\\n(X1, X2) &          1 \\\\\\\\\\n(X1, X3) &          0 \\\\\\\\\\n(X1, X4) &          0 \\\\\\\\\\n(X0, Y0) &          0 \\\\\\\\\\n(X0, Y1) &          0 \\\\\\\\\\n(X0, Y2) &          0 \\\\\\\\\\n(X0, Y3) &          0 \\\\\\\\\\n(X0, Y4) &          1 \\\\\\\\\\n(X1, Y0) &          2 \\\\\\\\\\n(X1, Y1) &          1 \\\\\\\\\\n(X1, Y2) &          1 \\\\\\\\\\n(X1, Y3) &          1 \\\\\\\\\\n(X1, Y4) &          0 \\\\\\\\\\n(X0, Z0) &          0 \\\\\\\\\\n(X0, Z1) &          1 \\\\\\\\\\n(X0, Z2) &          2 \\\\\\\\\\n(X0, Z3) &          0 \\\\\\\\\\n(X0, Z4) &          1 \\\\\\\\\\n(X1, Z0) &          2 \\\\\\\\\\n(X1, Z1) &          0 \\\\\\\\\\n(X1, Z2) &          0 \\\\\\\\\\n(X1, Z3) &          3 \\\\\\\\\\n(X1, Z4) &          0 \\\\\\\\\\n(Y0, X0) &          0 \\\\\\\\\\n(Y0, X1) &          2 \\\\\\\\\\n(Y0, X2) &          1 \\\\\\\\\\n(Y0, X3) &          0 \\\\\\\\\\n(Y0, X4) &          0 \\\\\\\\\\n(Y1, X0) &          0 \\\\\\\\\\n(Y1, X1) &          1 \\\\\\\\\\n(Y1, X2) &          3 \\\\\\\\\\n(Y1, X3) &          0 \\\\\\\\\\n(Y1, X4) &          0 \\\\\\\\\\n(Y0, Y0) &  Redundant \\\\\\\\\\n(Y0, Y1) &          1 \\\\\\\\\\n(Y0, Y2) &          1 \\\\\\\\\\n(Y0, Y3) &          1 \\\\\\\\\\n(Y0, Y4) &          0 \\\\\\\\\\n(Y1, Y0) &          1 \\\\\\\\\\n(Y1, Y1) &  Redundant \\\\\\\\\\n(Y1, Y2) &          2 \\\\\\\\\\n(Y1, Y3) &          2 \\\\\\\\\\n(Y1, Y4) &          0 \\\\\\\\\\n(Y0, Z0) &          3 \\\\\\\\\\n(Y0, Z1) &          0 \\\\\\\\\\n(Y0, Z2) &          0 \\\\\\\\\\n(Y0, Z3) &          2 \\\\\\\\\\n(Y0, Z4) &          0 \\\\\\\\\\n(Y1, Z0) &          1 \\\\\\\\\\n(Y1, Z1) &          0 \\\\\\\\\\n(Y1, Z2) &          0 \\\\\\\\\\n(Y1, Z3) &          1 \\\\\\\\\\n(Y1, Z4) &          0 \\\\\\\\\\n(Z0, X0) &          0 \\\\\\\\\\n(Z0, X1) &          2 \\\\\\\\\\n(Z0, X2) &          1 \\\\\\\\\\n(Z0, X3) &          0 \\\\\\\\\\n(Z0, X4) &          0 \\\\\\\\\\n(Z1, X0) &          1 \\\\\\\\\\n(Z1, X1) &          0 \\\\\\\\\\n(Z1, X2) &          0 \\\\\\\\\\n(Z1, X3) &          2 \\\\\\\\\\n(Z1, X4) &          1 \\\\\\\\\\n(Z0, Y0) &          3 \\\\\\\\\\n(Z0, Y1) &          1 \\\\\\\\\\n(Z0, Y2) &          1 \\\\\\\\\\n(Z0, Y3) &          1 \\\\\\\\\\n(Z0, Y4) &          0 \\\\\\\\\\n(Z1, Y0) &          0 \\\\\\\\\\n(Z1, Y1) &          0 \\\\\\\\\\n(Z1, Y2) &          0 \\\\\\\\\\n(Z1, Y3) &          0 \\\\\\\\\\n(Z1, Y4) &          2 \\\\\\\\\\n(Z0, Z0) &  Redundant \\\\\\\\\\n(Z0, Z1) &          0 \\\\\\\\\\n(Z0, Z2) &          0 \\\\\\\\\\n(Z0, Z3) &          2 \\\\\\\\\\n(Z0, Z4) &          0 \\\\\\\\\\n(Z1, Z0) &          0 \\\\\\\\\\n(Z1, Z1) &  Redundant \\\\\\\\\\n(Z1, Z2) &          1 \\\\\\\\\\n(Z1, Z3) &          0 \\\\\\\\\\n(Z1, Z4) &          3 \\\\\\\\\\n\\\\bottomrule\\n\\\\end{tabular}\\n'"
      ]
     },
     "execution_count": 120,
     "metadata": {},
     "output_type": "execute_result"
    }
   ],
   "source": [
    "dat.to_latex()"
   ]
  },
  {
   "cell_type": "code",
   "execution_count": 121,
   "id": "edca3bd3",
   "metadata": {},
   "outputs": [
    {
     "name": "stderr",
     "output_type": "stream",
     "text": [
      "C:\\Users\\Seth\\AppData\\Local\\Temp/ipykernel_15740/1759676151.py:1: FutureWarning: In future versions `DataFrame.to_latex` is expected to utilise the base implementation of `Styler.to_latex` for formatting and rendering. The arguments signature may therefore change. It is recommended instead to use `DataFrame.style.to_latex` which also contains additional functionality.\n",
      "  open(\"stabilizerTable.txt\",\"w\").write(dat.to_latex())\n"
     ]
    },
    {
     "data": {
      "text/latex": [
       "$\\displaystyle 2333$"
      ],
      "text/plain": [
       "2333"
      ]
     },
     "execution_count": 121,
     "metadata": {},
     "output_type": "execute_result"
    }
   ],
   "source": [
    "open(\"stabilizerTable.txt\",\"w\").write(dat.to_latex())"
   ]
  },
  {
   "cell_type": "code",
   "execution_count": null,
   "id": "dc6c4cf5",
   "metadata": {},
   "outputs": [],
   "source": []
  }
 ],
 "metadata": {
  "interpreter": {
   "hash": "2be5faf79681da6f2a61fdfdd5405d65d042280f7fba6178067603e3a2925119"
  },
  "kernelspec": {
   "display_name": "Python 3 (ipykernel)",
   "language": "python",
   "name": "python3"
  },
  "language_info": {
   "codemirror_mode": {
    "name": "ipython",
    "version": 3
   },
   "file_extension": ".py",
   "mimetype": "text/x-python",
   "name": "python",
   "nbconvert_exporter": "python",
   "pygments_lexer": "ipython3",
   "version": "3.9.6"
  }
 },
 "nbformat": 4,
 "nbformat_minor": 5
}
